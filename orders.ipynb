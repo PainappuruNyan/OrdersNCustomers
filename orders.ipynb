{
  "nbformat": 4,
  "nbformat_minor": 0,
  "metadata": {
    "colab": {
      "name": "orders.ipynb",
      "provenance": [],
      "collapsed_sections": [],
      "authorship_tag": "ABX9TyO9L/wNxLCeYl6/lxIk0Ngq",
      "include_colab_link": true
    },
    "kernelspec": {
      "name": "python3",
      "display_name": "Python 3"
    },
    "language_info": {
      "name": "python"
    }
  },
  "cells": [
    {
      "cell_type": "markdown",
      "metadata": {
        "id": "view-in-github",
        "colab_type": "text"
      },
      "source": [
        "<a href=\"https://colab.research.google.com/github/PainappuruNyan/OrdersNCustomers/blob/main/orders.ipynb\" target=\"_parent\"><img src=\"https://colab.research.google.com/assets/colab-badge.svg\" alt=\"Open In Colab\"/></a>"
      ]
    },
    {
      "cell_type": "code",
      "metadata": {
        "id": "cw68eV57VMz4"
      },
      "source": [
        "import pandas as pd"
      ],
      "execution_count": null,
      "outputs": []
    },
    {
      "cell_type": "code",
      "metadata": {
        "id": "3LZX3JiEWrwX"
      },
      "source": [
        "orders = pd.read_csv('orders.csv')\n",
        "customers = pd.read_csv('customers.csv')"
      ],
      "execution_count": null,
      "outputs": []
    },
    {
      "cell_type": "code",
      "metadata": {
        "colab": {
          "base_uri": "https://localhost:8080/"
        },
        "id": "zphj-0oElNvs",
        "outputId": "5ed0477c-44df-46ea-a693-5aaa74ce998c"
      },
      "source": [
        "orders.info()"
      ],
      "execution_count": null,
      "outputs": [
        {
          "output_type": "stream",
          "text": [
            "<class 'pandas.core.frame.DataFrame'>\n",
            "RangeIndex: 5009 entries, 0 to 5008\n",
            "Data columns (total 5 columns):\n",
            " #   Column       Non-Null Count  Dtype  \n",
            "---  ------       --------------  -----  \n",
            " 0   id           5009 non-null   int64  \n",
            " 1   order_date   5009 non-null   object \n",
            " 2   ship_mode    5009 non-null   object \n",
            " 3   customer_id  5009 non-null   object \n",
            " 4   sales        5009 non-null   float64\n",
            "dtypes: float64(1), int64(1), object(3)\n",
            "memory usage: 195.8+ KB\n"
          ],
          "name": "stdout"
        }
      ]
    },
    {
      "cell_type": "code",
      "metadata": {
        "colab": {
          "base_uri": "https://localhost:8080/",
          "height": 491
        },
        "id": "U6NyLYp8a5RM",
        "outputId": "914a7255-136a-4e56-c111-50ae657d8444"
      },
      "source": [
        "orders.head(15)"
      ],
      "execution_count": null,
      "outputs": [
        {
          "output_type": "execute_result",
          "data": {
            "text/html": [
              "<div>\n",
              "<style scoped>\n",
              "    .dataframe tbody tr th:only-of-type {\n",
              "        vertical-align: middle;\n",
              "    }\n",
              "\n",
              "    .dataframe tbody tr th {\n",
              "        vertical-align: top;\n",
              "    }\n",
              "\n",
              "    .dataframe thead th {\n",
              "        text-align: right;\n",
              "    }\n",
              "</style>\n",
              "<table border=\"1\" class=\"dataframe\">\n",
              "  <thead>\n",
              "    <tr style=\"text-align: right;\">\n",
              "      <th></th>\n",
              "      <th>id</th>\n",
              "      <th>order_date</th>\n",
              "      <th>ship_mode</th>\n",
              "      <th>customer_id</th>\n",
              "      <th>sales</th>\n",
              "    </tr>\n",
              "  </thead>\n",
              "  <tbody>\n",
              "    <tr>\n",
              "      <th>0</th>\n",
              "      <td>100006</td>\n",
              "      <td>2014-09-07</td>\n",
              "      <td>Standard</td>\n",
              "      <td>DK-13375</td>\n",
              "      <td>378.0</td>\n",
              "    </tr>\n",
              "    <tr>\n",
              "      <th>1</th>\n",
              "      <td>100090</td>\n",
              "      <td>2014-07-08</td>\n",
              "      <td>Standard</td>\n",
              "      <td>EB-13705</td>\n",
              "      <td>699.2</td>\n",
              "    </tr>\n",
              "    <tr>\n",
              "      <th>2</th>\n",
              "      <td>100293</td>\n",
              "      <td>2014-03-14</td>\n",
              "      <td>Standard</td>\n",
              "      <td>NF-18475</td>\n",
              "      <td>91.1</td>\n",
              "    </tr>\n",
              "    <tr>\n",
              "      <th>3</th>\n",
              "      <td>100328</td>\n",
              "      <td>2014-01-28</td>\n",
              "      <td>Standard</td>\n",
              "      <td>JC-15340</td>\n",
              "      <td>3.9</td>\n",
              "    </tr>\n",
              "    <tr>\n",
              "      <th>4</th>\n",
              "      <td>100363</td>\n",
              "      <td>2014-04-08</td>\n",
              "      <td>Standard</td>\n",
              "      <td>JM-15655</td>\n",
              "      <td>21.4</td>\n",
              "    </tr>\n",
              "    <tr>\n",
              "      <th>5</th>\n",
              "      <td>100391</td>\n",
              "      <td>2014-05-25</td>\n",
              "      <td>Standard</td>\n",
              "      <td>BW-11065</td>\n",
              "      <td>14.6</td>\n",
              "    </tr>\n",
              "    <tr>\n",
              "      <th>6</th>\n",
              "      <td>100678</td>\n",
              "      <td>2014-04-18</td>\n",
              "      <td>Standard</td>\n",
              "      <td>KM-16720</td>\n",
              "      <td>697.1</td>\n",
              "    </tr>\n",
              "    <tr>\n",
              "      <th>7</th>\n",
              "      <td>100706</td>\n",
              "      <td>2014-12-16</td>\n",
              "      <td>Second</td>\n",
              "      <td>LE-16810</td>\n",
              "      <td>129.4</td>\n",
              "    </tr>\n",
              "    <tr>\n",
              "      <th>8</th>\n",
              "      <td>100762</td>\n",
              "      <td>2014-11-24</td>\n",
              "      <td>Standard</td>\n",
              "      <td>NG-18355</td>\n",
              "      <td>508.6</td>\n",
              "    </tr>\n",
              "    <tr>\n",
              "      <th>9</th>\n",
              "      <td>100860</td>\n",
              "      <td>2014-03-26</td>\n",
              "      <td>Second</td>\n",
              "      <td>CS-12505</td>\n",
              "      <td>18.8</td>\n",
              "    </tr>\n",
              "    <tr>\n",
              "      <th>10</th>\n",
              "      <td>100867</td>\n",
              "      <td>2014-10-19</td>\n",
              "      <td>Standard</td>\n",
              "      <td>EH-14125</td>\n",
              "      <td>321.6</td>\n",
              "    </tr>\n",
              "    <tr>\n",
              "      <th>11</th>\n",
              "      <td>100881</td>\n",
              "      <td>2014-03-28</td>\n",
              "      <td>Standard</td>\n",
              "      <td>DR-12940</td>\n",
              "      <td>302.4</td>\n",
              "    </tr>\n",
              "    <tr>\n",
              "      <th>12</th>\n",
              "      <td>100895</td>\n",
              "      <td>2014-06-02</td>\n",
              "      <td>Standard</td>\n",
              "      <td>SV-20785</td>\n",
              "      <td>605.5</td>\n",
              "    </tr>\n",
              "    <tr>\n",
              "      <th>13</th>\n",
              "      <td>100916</td>\n",
              "      <td>2014-10-21</td>\n",
              "      <td>Standard</td>\n",
              "      <td>FH-14275</td>\n",
              "      <td>788.9</td>\n",
              "    </tr>\n",
              "    <tr>\n",
              "      <th>14</th>\n",
              "      <td>100972</td>\n",
              "      <td>2014-11-19</td>\n",
              "      <td>Second</td>\n",
              "      <td>DB-13360</td>\n",
              "      <td>166.4</td>\n",
              "    </tr>\n",
              "  </tbody>\n",
              "</table>\n",
              "</div>"
            ],
            "text/plain": [
              "        id  order_date ship_mode customer_id  sales\n",
              "0   100006  2014-09-07  Standard    DK-13375  378.0\n",
              "1   100090  2014-07-08  Standard    EB-13705  699.2\n",
              "2   100293  2014-03-14  Standard    NF-18475   91.1\n",
              "3   100328  2014-01-28  Standard    JC-15340    3.9\n",
              "4   100363  2014-04-08  Standard    JM-15655   21.4\n",
              "5   100391  2014-05-25  Standard    BW-11065   14.6\n",
              "6   100678  2014-04-18  Standard    KM-16720  697.1\n",
              "7   100706  2014-12-16    Second    LE-16810  129.4\n",
              "8   100762  2014-11-24  Standard    NG-18355  508.6\n",
              "9   100860  2014-03-26    Second    CS-12505   18.8\n",
              "10  100867  2014-10-19  Standard    EH-14125  321.6\n",
              "11  100881  2014-03-28  Standard    DR-12940  302.4\n",
              "12  100895  2014-06-02  Standard    SV-20785  605.5\n",
              "13  100916  2014-10-21  Standard    FH-14275  788.9\n",
              "14  100972  2014-11-19    Second    DB-13360  166.4"
            ]
          },
          "metadata": {
            "tags": []
          },
          "execution_count": 446
        }
      ]
    },
    {
      "cell_type": "code",
      "metadata": {
        "colab": {
          "base_uri": "https://localhost:8080/"
        },
        "id": "OYnzaImToCYa",
        "outputId": "467f1b5d-fd12-4ac2-9781-46b8eaf6257e"
      },
      "source": [
        "orders['order_date'].describe()"
      ],
      "execution_count": null,
      "outputs": [
        {
          "output_type": "execute_result",
          "data": {
            "text/plain": [
              "count           5009\n",
              "unique          1237\n",
              "top       2016-09-05\n",
              "freq              19\n",
              "Name: order_date, dtype: object"
            ]
          },
          "metadata": {
            "tags": []
          },
          "execution_count": 447
        }
      ]
    },
    {
      "cell_type": "code",
      "metadata": {
        "colab": {
          "base_uri": "https://localhost:8080/"
        },
        "id": "gHo1T-6TWr3i",
        "outputId": "ce84d4ca-b36b-4c1f-f032-3c38a5264f4f"
      },
      "source": [
        "customers.info()"
      ],
      "execution_count": null,
      "outputs": [
        {
          "output_type": "stream",
          "text": [
            "<class 'pandas.core.frame.DataFrame'>\n",
            "RangeIndex: 793 entries, 0 to 792\n",
            "Data columns (total 5 columns):\n",
            " #   Column   Non-Null Count  Dtype \n",
            "---  ------   --------------  ----- \n",
            " 0   id       793 non-null    object\n",
            " 1   name     793 non-null    object\n",
            " 2   segment  793 non-null    object\n",
            " 3   state    793 non-null    object\n",
            " 4   city     793 non-null    object\n",
            "dtypes: object(5)\n",
            "memory usage: 31.1+ KB\n"
          ],
          "name": "stdout"
        }
      ]
    },
    {
      "cell_type": "code",
      "metadata": {
        "id": "Jf-e4oQyg2ud"
      },
      "source": [
        "customers = customers.rename(columns = {'id':'customer_id'})"
      ],
      "execution_count": null,
      "outputs": []
    },
    {
      "cell_type": "code",
      "metadata": {
        "colab": {
          "base_uri": "https://localhost:8080/"
        },
        "id": "jdog1_XxiX4P",
        "outputId": "cc097f6f-d930-4adb-a977-13335e355f53"
      },
      "source": [
        "customers.info()"
      ],
      "execution_count": null,
      "outputs": [
        {
          "output_type": "stream",
          "text": [
            "<class 'pandas.core.frame.DataFrame'>\n",
            "RangeIndex: 793 entries, 0 to 792\n",
            "Data columns (total 5 columns):\n",
            " #   Column       Non-Null Count  Dtype \n",
            "---  ------       --------------  ----- \n",
            " 0   customer_id  793 non-null    object\n",
            " 1   name         793 non-null    object\n",
            " 2   segment      793 non-null    object\n",
            " 3   state        793 non-null    object\n",
            " 4   city         793 non-null    object\n",
            "dtypes: object(5)\n",
            "memory usage: 31.1+ KB\n"
          ],
          "name": "stdout"
        }
      ]
    },
    {
      "cell_type": "code",
      "metadata": {
        "id": "VrqfG02tTcvP"
      },
      "source": [
        "pd.options.display.float_format = '{:,.1f}'.format"
      ],
      "execution_count": null,
      "outputs": []
    },
    {
      "cell_type": "code",
      "metadata": {
        "colab": {
          "base_uri": "https://localhost:8080/"
        },
        "id": "Yc_NiocEYjU3",
        "outputId": "0de669ba-ab63-4fe6-d1b0-b83d286ff361"
      },
      "source": [
        "orders['ship_mode'].value_counts()"
      ],
      "execution_count": null,
      "outputs": [
        {
          "output_type": "execute_result",
          "data": {
            "text/plain": [
              "Standard    2994\n",
              "Second       964\n",
              "First        787\n",
              "Same Day     264\n",
              "Name: ship_mode, dtype: int64"
            ]
          },
          "metadata": {
            "tags": []
          },
          "execution_count": 452
        }
      ]
    },
    {
      "cell_type": "code",
      "metadata": {
        "colab": {
          "base_uri": "https://localhost:8080/",
          "height": 265
        },
        "id": "Sof3cDYXWr6d",
        "outputId": "15d6f385-a7b3-4811-e65a-39fad098d1ec"
      },
      "source": [
        "orders['ship_mode'].value_counts().plot.pie()"
      ],
      "execution_count": null,
      "outputs": [
        {
          "output_type": "execute_result",
          "data": {
            "text/plain": [
              "<matplotlib.axes._subplots.AxesSubplot at 0x7fbf7d019d90>"
            ]
          },
          "metadata": {
            "tags": []
          },
          "execution_count": 453
        },
        {
          "output_type": "display_data",
          "data": {
            "image/png": "[encoded data removed]",
            "text/plain": [
              "<Figure size 432x288 with 1 Axes>"
            ]
          },
          "metadata": {
            "tags": []
          }
        }
      ]
    },
    {
      "cell_type": "code",
      "metadata": {
        "colab": {
          "base_uri": "https://localhost:8080/"
        },
        "id": "el5wtygkYecO",
        "outputId": "4f81d978-09d2-45db-8b61-07981a4e33b7"
      },
      "source": [
        "customers['segment'].value_counts()"
      ],
      "execution_count": null,
      "outputs": [
        {
          "output_type": "execute_result",
          "data": {
            "text/plain": [
              "Consumer       409\n",
              "Corporate      236\n",
              "Home Office    148\n",
              "Name: segment, dtype: int64"
            ]
          },
          "metadata": {
            "tags": []
          },
          "execution_count": 454
        }
      ]
    },
    {
      "cell_type": "code",
      "metadata": {
        "colab": {
          "base_uri": "https://localhost:8080/",
          "height": 265
        },
        "id": "Fhn2oLv7Wr9H",
        "outputId": "04a68fca-ee73-41d2-b62b-59fcddabdec2"
      },
      "source": [
        "customers['segment'].value_counts().plot.pie()"
      ],
      "execution_count": null,
      "outputs": [
        {
          "output_type": "execute_result",
          "data": {
            "text/plain": [
              "<matplotlib.axes._subplots.AxesSubplot at 0x7fbf7cc28350>"
            ]
          },
          "metadata": {
            "tags": []
          },
          "execution_count": 455
        },
        {
          "output_type": "display_data",
          "data": {
            "image/png": "[encoded data removed]",
            "text/plain": [
              "<Figure size 432x288 with 1 Axes>"
            ]
          },
          "metadata": {
            "tags": []
          }
        }
      ]
    },
    {
      "cell_type": "code",
      "metadata": {
        "colab": {
          "base_uri": "https://localhost:8080/"
        },
        "id": "gPbxFkezWsOY",
        "outputId": "93671a20-74cb-4577-8699-b21f6b05de80"
      },
      "source": [
        "customers['state'].value_counts()"
      ],
      "execution_count": null,
      "outputs": [
        {
          "output_type": "execute_result",
          "data": {
            "text/plain": [
              "California              161\n",
              "New York                 87\n",
              "Texas                    77\n",
              "Pennsylvania             50\n",
              "Illinois                 41\n",
              "Ohio                     38\n",
              "Washington               38\n",
              "North Carolina           30\n",
              "Florida                  24\n",
              "Arizona                  21\n",
              "Colorado                 20\n",
              "Georgia                  17\n",
              "Michigan                 16\n",
              "Virginia                 15\n",
              "Minnesota                13\n",
              "Tennessee                13\n",
              "Kentucky                 13\n",
              "Indiana                  12\n",
              "Massachusetts            10\n",
              "New Jersey               10\n",
              "Alabama                   9\n",
              "Wisconsin                 9\n",
              "Connecticut               7\n",
              "Missouri                  6\n",
              "Delaware                  6\n",
              "Louisiana                 6\n",
              "Utah                      6\n",
              "Mississippi               5\n",
              "Rhode Island              5\n",
              "Maryland                  4\n",
              "New Mexico                4\n",
              "Oregon                    3\n",
              "Iowa                      3\n",
              "Oklahoma                  3\n",
              "Arkansas                  2\n",
              "New Hampshire             2\n",
              "Nebraska                  2\n",
              "Nevada                    2\n",
              "District of Columbia      1\n",
              "South Dakota              1\n",
              "Kansas                    1\n",
              "Name: state, dtype: int64"
            ]
          },
          "metadata": {
            "tags": []
          },
          "execution_count": 456
        }
      ]
    },
    {
      "cell_type": "code",
      "metadata": {
        "colab": {
          "base_uri": "https://localhost:8080/",
          "height": 373
        },
        "id": "3ls5qKuXWsUP",
        "outputId": "a5c5ee6c-9529-4b3d-c5e9-a3b95c254b18"
      },
      "source": [
        "orders.groupby(['ship_mode', 'order_date', 'customer_id'])['sales'].agg(['sum']).sort_values(by='sum', ascending=False).head(10)"
      ],
      "execution_count": null,
      "outputs": [
        {
          "output_type": "execute_result",
          "data": {
            "text/html": [
              "<div>\n",
              "<style scoped>\n",
              "    .dataframe tbody tr th:only-of-type {\n",
              "        vertical-align: middle;\n",
              "    }\n",
              "\n",
              "    .dataframe tbody tr th {\n",
              "        vertical-align: top;\n",
              "    }\n",
              "\n",
              "    .dataframe thead th {\n",
              "        text-align: right;\n",
              "    }\n",
              "</style>\n",
              "<table border=\"1\" class=\"dataframe\">\n",
              "  <thead>\n",
              "    <tr style=\"text-align: right;\">\n",
              "      <th></th>\n",
              "      <th></th>\n",
              "      <th></th>\n",
              "      <th>sum</th>\n",
              "    </tr>\n",
              "    <tr>\n",
              "      <th>ship_mode</th>\n",
              "      <th>order_date</th>\n",
              "      <th>customer_id</th>\n",
              "      <th></th>\n",
              "    </tr>\n",
              "  </thead>\n",
              "  <tbody>\n",
              "    <tr>\n",
              "      <th rowspan=\"2\" valign=\"top\">Standard</th>\n",
              "      <th>2014-03-18</th>\n",
              "      <th>SM-20320</th>\n",
              "      <td>23,661.2</td>\n",
              "    </tr>\n",
              "    <tr>\n",
              "      <th>2016-10-02</th>\n",
              "      <th>TC-20980</th>\n",
              "      <td>18,336.7</td>\n",
              "    </tr>\n",
              "    <tr>\n",
              "      <th rowspan=\"2\" valign=\"top\">First</th>\n",
              "      <th>2017-03-23</th>\n",
              "      <th>RB-19360</th>\n",
              "      <td>14,052.5</td>\n",
              "    </tr>\n",
              "    <tr>\n",
              "      <th>2017-10-22</th>\n",
              "      <th>TA-21385</th>\n",
              "      <td>13,716.5</td>\n",
              "    </tr>\n",
              "    <tr>\n",
              "      <th rowspan=\"5\" valign=\"top\">Standard</th>\n",
              "      <th>2014-09-08</th>\n",
              "      <th>BM-11140</th>\n",
              "      <td>10,539.9</td>\n",
              "    </tr>\n",
              "    <tr>\n",
              "      <th>2017-11-17</th>\n",
              "      <th>HL-15040</th>\n",
              "      <td>10,500.0</td>\n",
              "    </tr>\n",
              "    <tr>\n",
              "      <th>2014-09-23</th>\n",
              "      <th>SC-20095</th>\n",
              "      <td>9,900.2</td>\n",
              "    </tr>\n",
              "    <tr>\n",
              "      <th>2016-12-17</th>\n",
              "      <th>AB-10105</th>\n",
              "      <td>9,892.7</td>\n",
              "    </tr>\n",
              "    <tr>\n",
              "      <th>2016-04-16</th>\n",
              "      <th>BS-11365</th>\n",
              "      <td>9,135.2</td>\n",
              "    </tr>\n",
              "    <tr>\n",
              "      <th>Second</th>\n",
              "      <th>2016-02-02</th>\n",
              "      <th>SE-20110</th>\n",
              "      <td>8,805.0</td>\n",
              "    </tr>\n",
              "  </tbody>\n",
              "</table>\n",
              "</div>"
            ],
            "text/plain": [
              "                                      sum\n",
              "ship_mode order_date customer_id         \n",
              "Standard  2014-03-18 SM-20320    23,661.2\n",
              "          2016-10-02 TC-20980    18,336.7\n",
              "First     2017-03-23 RB-19360    14,052.5\n",
              "          2017-10-22 TA-21385    13,716.5\n",
              "Standard  2014-09-08 BM-11140    10,539.9\n",
              "          2017-11-17 HL-15040    10,500.0\n",
              "          2014-09-23 SC-20095     9,900.2\n",
              "          2016-12-17 AB-10105     9,892.7\n",
              "          2016-04-16 BS-11365     9,135.2\n",
              "Second    2016-02-02 SE-20110     8,805.0"
            ]
          },
          "metadata": {
            "tags": []
          },
          "execution_count": 457
        }
      ]
    },
    {
      "cell_type": "code",
      "metadata": {
        "id": "pAoOJ2gFZBJw"
      },
      "source": [
        "order_by_customer = pd.merge(orders, customers)"
      ],
      "execution_count": null,
      "outputs": []
    },
    {
      "cell_type": "code",
      "metadata": {
        "colab": {
          "base_uri": "https://localhost:8080/",
          "height": 343
        },
        "id": "fbpgvPYGZBfC",
        "outputId": "629aa0ba-8eac-48d4-fc87-803537ec5989"
      },
      "source": [
        "order_by_customer.head(10)"
      ],
      "execution_count": null,
      "outputs": [
        {
          "output_type": "execute_result",
          "data": {
            "text/html": [
              "<div>\n",
              "<style scoped>\n",
              "    .dataframe tbody tr th:only-of-type {\n",
              "        vertical-align: middle;\n",
              "    }\n",
              "\n",
              "    .dataframe tbody tr th {\n",
              "        vertical-align: top;\n",
              "    }\n",
              "\n",
              "    .dataframe thead th {\n",
              "        text-align: right;\n",
              "    }\n",
              "</style>\n",
              "<table border=\"1\" class=\"dataframe\">\n",
              "  <thead>\n",
              "    <tr style=\"text-align: right;\">\n",
              "      <th></th>\n",
              "      <th>id</th>\n",
              "      <th>order_date</th>\n",
              "      <th>ship_mode</th>\n",
              "      <th>customer_id</th>\n",
              "      <th>sales</th>\n",
              "      <th>name</th>\n",
              "      <th>segment</th>\n",
              "      <th>state</th>\n",
              "      <th>city</th>\n",
              "    </tr>\n",
              "  </thead>\n",
              "  <tbody>\n",
              "    <tr>\n",
              "      <th>0</th>\n",
              "      <td>100006</td>\n",
              "      <td>2014-09-07</td>\n",
              "      <td>Standard</td>\n",
              "      <td>DK-13375</td>\n",
              "      <td>378.0</td>\n",
              "      <td>Dennis Kane</td>\n",
              "      <td>Consumer</td>\n",
              "      <td>Ohio</td>\n",
              "      <td>Marion</td>\n",
              "    </tr>\n",
              "    <tr>\n",
              "      <th>1</th>\n",
              "      <td>131884</td>\n",
              "      <td>2015-12-06</td>\n",
              "      <td>Same Day</td>\n",
              "      <td>DK-13375</td>\n",
              "      <td>594.0</td>\n",
              "      <td>Dennis Kane</td>\n",
              "      <td>Consumer</td>\n",
              "      <td>Ohio</td>\n",
              "      <td>Marion</td>\n",
              "    </tr>\n",
              "    <tr>\n",
              "      <th>2</th>\n",
              "      <td>145065</td>\n",
              "      <td>2015-12-12</td>\n",
              "      <td>First</td>\n",
              "      <td>DK-13375</td>\n",
              "      <td>32.3</td>\n",
              "      <td>Dennis Kane</td>\n",
              "      <td>Consumer</td>\n",
              "      <td>Ohio</td>\n",
              "      <td>Marion</td>\n",
              "    </tr>\n",
              "    <tr>\n",
              "      <th>3</th>\n",
              "      <td>133046</td>\n",
              "      <td>2017-07-27</td>\n",
              "      <td>Second</td>\n",
              "      <td>DK-13375</td>\n",
              "      <td>298.0</td>\n",
              "      <td>Dennis Kane</td>\n",
              "      <td>Consumer</td>\n",
              "      <td>Ohio</td>\n",
              "      <td>Marion</td>\n",
              "    </tr>\n",
              "    <tr>\n",
              "      <th>4</th>\n",
              "      <td>165099</td>\n",
              "      <td>2017-12-11</td>\n",
              "      <td>First</td>\n",
              "      <td>DK-13375</td>\n",
              "      <td>1.4</td>\n",
              "      <td>Dennis Kane</td>\n",
              "      <td>Consumer</td>\n",
              "      <td>Ohio</td>\n",
              "      <td>Marion</td>\n",
              "    </tr>\n",
              "    <tr>\n",
              "      <th>5</th>\n",
              "      <td>166835</td>\n",
              "      <td>2017-11-12</td>\n",
              "      <td>Second</td>\n",
              "      <td>DK-13375</td>\n",
              "      <td>221.0</td>\n",
              "      <td>Dennis Kane</td>\n",
              "      <td>Consumer</td>\n",
              "      <td>Ohio</td>\n",
              "      <td>Marion</td>\n",
              "    </tr>\n",
              "    <tr>\n",
              "      <th>6</th>\n",
              "      <td>111290</td>\n",
              "      <td>2016-07-22</td>\n",
              "      <td>Standard</td>\n",
              "      <td>DK-13375</td>\n",
              "      <td>1,137.4</td>\n",
              "      <td>Dennis Kane</td>\n",
              "      <td>Consumer</td>\n",
              "      <td>Ohio</td>\n",
              "      <td>Marion</td>\n",
              "    </tr>\n",
              "    <tr>\n",
              "      <th>7</th>\n",
              "      <td>139087</td>\n",
              "      <td>2016-07-17</td>\n",
              "      <td>Second</td>\n",
              "      <td>DK-13375</td>\n",
              "      <td>656.4</td>\n",
              "      <td>Dennis Kane</td>\n",
              "      <td>Consumer</td>\n",
              "      <td>Ohio</td>\n",
              "      <td>Marion</td>\n",
              "    </tr>\n",
              "    <tr>\n",
              "      <th>8</th>\n",
              "      <td>100090</td>\n",
              "      <td>2014-07-08</td>\n",
              "      <td>Standard</td>\n",
              "      <td>EB-13705</td>\n",
              "      <td>699.2</td>\n",
              "      <td>Ed Braxton</td>\n",
              "      <td>Corporate</td>\n",
              "      <td>Ohio</td>\n",
              "      <td>Akron</td>\n",
              "    </tr>\n",
              "    <tr>\n",
              "      <th>9</th>\n",
              "      <td>129938</td>\n",
              "      <td>2014-12-15</td>\n",
              "      <td>Second</td>\n",
              "      <td>EB-13705</td>\n",
              "      <td>445.8</td>\n",
              "      <td>Ed Braxton</td>\n",
              "      <td>Corporate</td>\n",
              "      <td>Ohio</td>\n",
              "      <td>Akron</td>\n",
              "    </tr>\n",
              "  </tbody>\n",
              "</table>\n",
              "</div>"
            ],
            "text/plain": [
              "       id  order_date ship_mode  ...    segment  state    city\n",
              "0  100006  2014-09-07  Standard  ...   Consumer   Ohio  Marion\n",
              "1  131884  2015-12-06  Same Day  ...   Consumer   Ohio  Marion\n",
              "2  145065  2015-12-12     First  ...   Consumer   Ohio  Marion\n",
              "3  133046  2017-07-27    Second  ...   Consumer   Ohio  Marion\n",
              "4  165099  2017-12-11     First  ...   Consumer   Ohio  Marion\n",
              "5  166835  2017-11-12    Second  ...   Consumer   Ohio  Marion\n",
              "6  111290  2016-07-22  Standard  ...   Consumer   Ohio  Marion\n",
              "7  139087  2016-07-17    Second  ...   Consumer   Ohio  Marion\n",
              "8  100090  2014-07-08  Standard  ...  Corporate   Ohio   Akron\n",
              "9  129938  2014-12-15    Second  ...  Corporate   Ohio   Akron\n",
              "\n",
              "[10 rows x 9 columns]"
            ]
          },
          "metadata": {
            "tags": []
          },
          "execution_count": 459
        }
      ]
    },
    {
      "cell_type": "code",
      "metadata": {
        "id": "za86ngfkZBoB"
      },
      "source": [
        "top_city = order_by_customer.groupby('city')['sales'].sum()"
      ],
      "execution_count": null,
      "outputs": []
    },
    {
      "cell_type": "code",
      "metadata": {
        "colab": {
          "base_uri": "https://localhost:8080/"
        },
        "id": "slDq-WgBZBz0",
        "outputId": "c2aab277-466c-45b7-b2bd-cc508cd8d5fd"
      },
      "source": [
        "top_city.sort_values(ascending=False).head(10)"
      ],
      "execution_count": null,
      "outputs": [
        {
          "output_type": "execute_result",
          "data": {
            "text/plain": [
              "city\n",
              "New York City   210,927.0\n",
              "Los Angeles     141,770.8\n",
              "Philadelphia    130,921.2\n",
              "Seattle         108,638.2\n",
              "San Francisco   107,084.1\n",
              "Houston          87,156.5\n",
              "Chicago          61,351.3\n",
              "San Diego        39,816.4\n",
              "Columbus         39,808.7\n",
              "Monroe           35,707.0\n",
              "Name: sales, dtype: float64"
            ]
          },
          "metadata": {
            "tags": []
          },
          "execution_count": 461
        }
      ]
    },
    {
      "cell_type": "code",
      "metadata": {
        "id": "TcNBLqpUZB9M"
      },
      "source": [
        "top_city_5 = top_city.sort_values(ascending=False).head(5)"
      ],
      "execution_count": null,
      "outputs": []
    },
    {
      "cell_type": "code",
      "metadata": {
        "colab": {
          "base_uri": "https://localhost:8080/",
          "height": 282
        },
        "id": "btYH9qjkZCEZ",
        "outputId": "04db85fa-6dd5-4790-bf28-85a32a2ad090"
      },
      "source": [
        "top_city_5.plot(kind = 'barh')"
      ],
      "execution_count": null,
      "outputs": [
        {
          "output_type": "execute_result",
          "data": {
            "text/plain": [
              "<matplotlib.axes._subplots.AxesSubplot at 0x7fbf7cb75d50>"
            ]
          },
          "metadata": {
            "tags": []
          },
          "execution_count": 463
        },
        {
          "output_type": "display_data",
          "data": {
            "image/png": "[encoded data removed]",
            "text/plain": [
              "<Figure size 432x288 with 1 Axes>"
            ]
          },
          "metadata": {
            "tags": [],
            "needs_background": "light"
          }
        }
      ]
    },
    {
      "cell_type": "code",
      "metadata": {
        "id": "rvOfKQk1WsXO"
      },
      "source": [
        "orders_5_years = orders.query(\"order_date >= '2011-01-01' & order_date <= '2016-12-31'\")"
      ],
      "execution_count": null,
      "outputs": []
    },
    {
      "cell_type": "code",
      "metadata": {
        "colab": {
          "base_uri": "https://localhost:8080/"
        },
        "id": "FvHlNcxX3wMY",
        "outputId": "b234eabd-b3cf-4ebd-931a-73f55ba84b6a"
      },
      "source": [
        "orders_5_years.value_counts()"
      ],
      "execution_count": null,
      "outputs": [
        {
          "output_type": "execute_result",
          "data": {
            "text/plain": [
              "id      order_date  ship_mode  customer_id  sales  \n",
              "169971  2016-09-04  Standard   IL-15100     66.3       1\n",
              "123260  2014-08-26  Standard   FM-14290     176.8      1\n",
              "123414  2016-08-21  Standard   SU-20665     37.3       1\n",
              "123400  2014-02-02  Standard   EB-13930     199.3      1\n",
              "123358  2016-04-10  Standard   BT-11680     892.0      1\n",
              "                                                      ..\n",
              "146325  2016-12-14  First      DS-13180     216.2      1\n",
              "146318  2016-01-22  Standard   MC-17275     13.0       1\n",
              "146290  2015-05-04  Standard   SV-20815     125.9      1\n",
              "146283  2014-09-08  Standard   KT-16465     1,166.7    1\n",
              "100006  2014-09-07  Standard   DK-13375     378.0      1\n",
              "Length: 3322, dtype: int64"
            ]
          },
          "metadata": {
            "tags": []
          },
          "execution_count": 465
        }
      ]
    },
    {
      "cell_type": "code",
      "metadata": {
        "id": "ilWT04CgWsaK"
      },
      "source": [
        "ship_mode_filter = 'First'\n",
        "orders_5_years_first = orders_5_years.query('ship_mode == @ship_mode_filter')"
      ],
      "execution_count": null,
      "outputs": []
    },
    {
      "cell_type": "code",
      "metadata": {
        "id": "PUH_gi_0Wsd0",
        "colab": {
          "base_uri": "https://localhost:8080/",
          "height": 343
        },
        "outputId": "5a6dc637-26d4-4cc7-da67-0720a408c3ea"
      },
      "source": [
        "orders_5_years_first.head(10)"
      ],
      "execution_count": null,
      "outputs": [
        {
          "output_type": "execute_result",
          "data": {
            "text/html": [
              "<div>\n",
              "<style scoped>\n",
              "    .dataframe tbody tr th:only-of-type {\n",
              "        vertical-align: middle;\n",
              "    }\n",
              "\n",
              "    .dataframe tbody tr th {\n",
              "        vertical-align: top;\n",
              "    }\n",
              "\n",
              "    .dataframe thead th {\n",
              "        text-align: right;\n",
              "    }\n",
              "</style>\n",
              "<table border=\"1\" class=\"dataframe\">\n",
              "  <thead>\n",
              "    <tr style=\"text-align: right;\">\n",
              "      <th></th>\n",
              "      <th>id</th>\n",
              "      <th>order_date</th>\n",
              "      <th>ship_mode</th>\n",
              "      <th>customer_id</th>\n",
              "      <th>sales</th>\n",
              "    </tr>\n",
              "  </thead>\n",
              "  <tbody>\n",
              "    <tr>\n",
              "      <th>15</th>\n",
              "      <td>101147</td>\n",
              "      <td>2014-12-02</td>\n",
              "      <td>First</td>\n",
              "      <td>MC-17575</td>\n",
              "      <td>2.4</td>\n",
              "    </tr>\n",
              "    <tr>\n",
              "      <th>22</th>\n",
              "      <td>101476</td>\n",
              "      <td>2014-09-12</td>\n",
              "      <td>First</td>\n",
              "      <td>SD-20485</td>\n",
              "      <td>70.0</td>\n",
              "    </tr>\n",
              "    <tr>\n",
              "      <th>24</th>\n",
              "      <td>101602</td>\n",
              "      <td>2014-12-15</td>\n",
              "      <td>First</td>\n",
              "      <td>MC-18100</td>\n",
              "      <td>804.0</td>\n",
              "    </tr>\n",
              "    <tr>\n",
              "      <th>27</th>\n",
              "      <td>101931</td>\n",
              "      <td>2014-10-28</td>\n",
              "      <td>First</td>\n",
              "      <td>TS-21370</td>\n",
              "      <td>1,252.6</td>\n",
              "    </tr>\n",
              "    <tr>\n",
              "      <th>38</th>\n",
              "      <td>103058</td>\n",
              "      <td>2014-07-23</td>\n",
              "      <td>First</td>\n",
              "      <td>AG-10270</td>\n",
              "      <td>100.0</td>\n",
              "    </tr>\n",
              "    <tr>\n",
              "      <th>40</th>\n",
              "      <td>103100</td>\n",
              "      <td>2014-12-20</td>\n",
              "      <td>First</td>\n",
              "      <td>AB-10105</td>\n",
              "      <td>1,107.7</td>\n",
              "    </tr>\n",
              "    <tr>\n",
              "      <th>44</th>\n",
              "      <td>103317</td>\n",
              "      <td>2014-07-05</td>\n",
              "      <td>First</td>\n",
              "      <td>DM-13525</td>\n",
              "      <td>242.5</td>\n",
              "    </tr>\n",
              "    <tr>\n",
              "      <th>46</th>\n",
              "      <td>103366</td>\n",
              "      <td>2014-01-15</td>\n",
              "      <td>First</td>\n",
              "      <td>EH-13990</td>\n",
              "      <td>149.9</td>\n",
              "    </tr>\n",
              "    <tr>\n",
              "      <th>49</th>\n",
              "      <td>103429</td>\n",
              "      <td>2014-05-30</td>\n",
              "      <td>First</td>\n",
              "      <td>LW-16825</td>\n",
              "      <td>765.5</td>\n",
              "    </tr>\n",
              "    <tr>\n",
              "      <th>60</th>\n",
              "      <td>103989</td>\n",
              "      <td>2014-03-19</td>\n",
              "      <td>First</td>\n",
              "      <td>MC-17605</td>\n",
              "      <td>590.8</td>\n",
              "    </tr>\n",
              "  </tbody>\n",
              "</table>\n",
              "</div>"
            ],
            "text/plain": [
              "        id  order_date ship_mode customer_id   sales\n",
              "15  101147  2014-12-02     First    MC-17575     2.4\n",
              "22  101476  2014-09-12     First    SD-20485    70.0\n",
              "24  101602  2014-12-15     First    MC-18100   804.0\n",
              "27  101931  2014-10-28     First    TS-21370 1,252.6\n",
              "38  103058  2014-07-23     First    AG-10270   100.0\n",
              "40  103100  2014-12-20     First    AB-10105 1,107.7\n",
              "44  103317  2014-07-05     First    DM-13525   242.5\n",
              "46  103366  2014-01-15     First    EH-13990   149.9\n",
              "49  103429  2014-05-30     First    LW-16825   765.5\n",
              "60  103989  2014-03-19     First    MC-17605   590.8"
            ]
          },
          "metadata": {
            "tags": []
          },
          "execution_count": 467
        }
      ]
    },
    {
      "cell_type": "code",
      "metadata": {
        "id": "wSkv3UMKWshl"
      },
      "source": [
        "customer_city_filter = 'California'"
      ],
      "execution_count": null,
      "outputs": []
    },
    {
      "cell_type": "code",
      "metadata": {
        "id": "BiYxbUmnWsko"
      },
      "source": [
        "filter_customers = customers.query('state == @customer_city_filter')"
      ],
      "execution_count": null,
      "outputs": []
    },
    {
      "cell_type": "code",
      "metadata": {
        "id": "zsFCWxVfWsmc",
        "colab": {
          "base_uri": "https://localhost:8080/",
          "height": 343
        },
        "outputId": "8a9be6a3-f4ce-42cb-bb99-d28525806cc3"
      },
      "source": [
        "filter_customers.head(10)"
      ],
      "execution_count": null,
      "outputs": [
        {
          "output_type": "execute_result",
          "data": {
            "text/html": [
              "<div>\n",
              "<style scoped>\n",
              "    .dataframe tbody tr th:only-of-type {\n",
              "        vertical-align: middle;\n",
              "    }\n",
              "\n",
              "    .dataframe tbody tr th {\n",
              "        vertical-align: top;\n",
              "    }\n",
              "\n",
              "    .dataframe thead th {\n",
              "        text-align: right;\n",
              "    }\n",
              "</style>\n",
              "<table border=\"1\" class=\"dataframe\">\n",
              "  <thead>\n",
              "    <tr style=\"text-align: right;\">\n",
              "      <th></th>\n",
              "      <th>customer_id</th>\n",
              "      <th>name</th>\n",
              "      <th>segment</th>\n",
              "      <th>state</th>\n",
              "      <th>city</th>\n",
              "    </tr>\n",
              "  </thead>\n",
              "  <tbody>\n",
              "    <tr>\n",
              "      <th>1</th>\n",
              "      <td>DV-13045</td>\n",
              "      <td>Darrin Van Huff</td>\n",
              "      <td>Corporate</td>\n",
              "      <td>California</td>\n",
              "      <td>Los Angeles</td>\n",
              "    </tr>\n",
              "    <tr>\n",
              "      <th>3</th>\n",
              "      <td>BH-11710</td>\n",
              "      <td>Brosina Hoffman</td>\n",
              "      <td>Consumer</td>\n",
              "      <td>California</td>\n",
              "      <td>Los Angeles</td>\n",
              "    </tr>\n",
              "    <tr>\n",
              "      <th>9</th>\n",
              "      <td>ZD-21925</td>\n",
              "      <td>Zuschuss Donatelli</td>\n",
              "      <td>Consumer</td>\n",
              "      <td>California</td>\n",
              "      <td>San Francisco</td>\n",
              "    </tr>\n",
              "    <tr>\n",
              "      <th>13</th>\n",
              "      <td>EH-13945</td>\n",
              "      <td>Eric Hoffmann</td>\n",
              "      <td>Consumer</td>\n",
              "      <td>California</td>\n",
              "      <td>Los Angeles</td>\n",
              "    </tr>\n",
              "    <tr>\n",
              "      <th>19</th>\n",
              "      <td>RA-19885</td>\n",
              "      <td>Ruben Ausman</td>\n",
              "      <td>Corporate</td>\n",
              "      <td>California</td>\n",
              "      <td>Los Angeles</td>\n",
              "    </tr>\n",
              "    <tr>\n",
              "      <th>27</th>\n",
              "      <td>KM-16720</td>\n",
              "      <td>Kunst Miller</td>\n",
              "      <td>Consumer</td>\n",
              "      <td>California</td>\n",
              "      <td>Los Angeles</td>\n",
              "    </tr>\n",
              "    <tr>\n",
              "      <th>35</th>\n",
              "      <td>DN-13690</td>\n",
              "      <td>Duane Noonan</td>\n",
              "      <td>Consumer</td>\n",
              "      <td>California</td>\n",
              "      <td>San Francisco</td>\n",
              "    </tr>\n",
              "    <tr>\n",
              "      <th>40</th>\n",
              "      <td>JS-15685</td>\n",
              "      <td>Jim Sink</td>\n",
              "      <td>Corporate</td>\n",
              "      <td>California</td>\n",
              "      <td>Los Angeles</td>\n",
              "    </tr>\n",
              "    <tr>\n",
              "      <th>44</th>\n",
              "      <td>KD-16345</td>\n",
              "      <td>Katherine Ducich</td>\n",
              "      <td>Consumer</td>\n",
              "      <td>California</td>\n",
              "      <td>San Francisco</td>\n",
              "    </tr>\n",
              "    <tr>\n",
              "      <th>60</th>\n",
              "      <td>LS-16975</td>\n",
              "      <td>Lindsay Shagiari</td>\n",
              "      <td>Home Office</td>\n",
              "      <td>California</td>\n",
              "      <td>Los Angeles</td>\n",
              "    </tr>\n",
              "  </tbody>\n",
              "</table>\n",
              "</div>"
            ],
            "text/plain": [
              "   customer_id                name      segment       state           city\n",
              "1     DV-13045     Darrin Van Huff    Corporate  California    Los Angeles\n",
              "3     BH-11710     Brosina Hoffman     Consumer  California    Los Angeles\n",
              "9     ZD-21925  Zuschuss Donatelli     Consumer  California  San Francisco\n",
              "13    EH-13945       Eric Hoffmann     Consumer  California    Los Angeles\n",
              "19    RA-19885        Ruben Ausman    Corporate  California    Los Angeles\n",
              "27    KM-16720        Kunst Miller     Consumer  California    Los Angeles\n",
              "35    DN-13690        Duane Noonan     Consumer  California  San Francisco\n",
              "40    JS-15685            Jim Sink    Corporate  California    Los Angeles\n",
              "44    KD-16345    Katherine Ducich     Consumer  California  San Francisco\n",
              "60    LS-16975    Lindsay Shagiari  Home Office  California    Los Angeles"
            ]
          },
          "metadata": {
            "tags": []
          },
          "execution_count": 470
        }
      ]
    },
    {
      "cell_type": "code",
      "metadata": {
        "id": "f8nQ2kFsWsoC"
      },
      "source": [
        "city_order = pd.merge(filter_customers, orders)"
      ],
      "execution_count": null,
      "outputs": []
    },
    {
      "cell_type": "code",
      "metadata": {
        "colab": {
          "base_uri": "https://localhost:8080/"
        },
        "id": "VGQ7Z5LK6FNX",
        "outputId": "fafc1edb-033c-4b7d-b650-affc06f67c6d"
      },
      "source": [
        "city_order.shape"
      ],
      "execution_count": null,
      "outputs": [
        {
          "output_type": "execute_result",
          "data": {
            "text/plain": [
              "(1006, 9)"
            ]
          },
          "metadata": {
            "tags": []
          },
          "execution_count": 472
        }
      ]
    },
    {
      "cell_type": "code",
      "metadata": {
        "id": "DB7hkT_rhHTA"
      },
      "source": [
        "orders['order_date'] = pd.to_datetime(orders['order_date'])"
      ],
      "execution_count": null,
      "outputs": []
    },
    {
      "cell_type": "code",
      "metadata": {
        "id": "Am2ZztGkhMWS"
      },
      "source": [
        "orders = orders.set_index('order_date')"
      ],
      "execution_count": null,
      "outputs": []
    },
    {
      "cell_type": "code",
      "metadata": {
        "id": "8MyRXozHhflX"
      },
      "source": [
        "grouped_orders = orders.groupby(pd.Grouper(level=\"order_date\", freq=\"Y\"))['sales'].agg(['sum'])"
      ],
      "execution_count": null,
      "outputs": []
    },
    {
      "cell_type": "code",
      "metadata": {
        "id": "yXZO7gNwmtMD"
      },
      "source": [
        ""
      ],
      "execution_count": null,
      "outputs": []
    },
    {
      "cell_type": "code",
      "metadata": {
        "colab": {
          "base_uri": "https://localhost:8080/",
          "height": 195
        },
        "id": "I41hN5cph74P",
        "outputId": "83666fe3-9639-4828-a7ec-854163c2fb1b"
      },
      "source": [
        "grouped_orders.head(5)"
      ],
      "execution_count": null,
      "outputs": [
        {
          "output_type": "execute_result",
          "data": {
            "text/html": [
              "<div>\n",
              "<style scoped>\n",
              "    .dataframe tbody tr th:only-of-type {\n",
              "        vertical-align: middle;\n",
              "    }\n",
              "\n",
              "    .dataframe tbody tr th {\n",
              "        vertical-align: top;\n",
              "    }\n",
              "\n",
              "    .dataframe thead th {\n",
              "        text-align: right;\n",
              "    }\n",
              "</style>\n",
              "<table border=\"1\" class=\"dataframe\">\n",
              "  <thead>\n",
              "    <tr style=\"text-align: right;\">\n",
              "      <th></th>\n",
              "      <th>sum</th>\n",
              "    </tr>\n",
              "    <tr>\n",
              "      <th>order_date</th>\n",
              "      <th></th>\n",
              "    </tr>\n",
              "  </thead>\n",
              "  <tbody>\n",
              "    <tr>\n",
              "      <th>2014-12-31</th>\n",
              "      <td>484,247.5</td>\n",
              "    </tr>\n",
              "    <tr>\n",
              "      <th>2015-12-31</th>\n",
              "      <td>470,532.5</td>\n",
              "    </tr>\n",
              "    <tr>\n",
              "      <th>2016-12-31</th>\n",
              "      <td>609,205.6</td>\n",
              "    </tr>\n",
              "    <tr>\n",
              "      <th>2017-12-31</th>\n",
              "      <td>733,215.3</td>\n",
              "    </tr>\n",
              "  </tbody>\n",
              "</table>\n",
              "</div>"
            ],
            "text/plain": [
              "                 sum\n",
              "order_date          \n",
              "2014-12-31 484,247.5\n",
              "2015-12-31 470,532.5\n",
              "2016-12-31 609,205.6\n",
              "2017-12-31 733,215.3"
            ]
          },
          "metadata": {
            "tags": []
          },
          "execution_count": 480
        }
      ]
    },
    {
      "cell_type": "code",
      "metadata": {
        "id": "-D3xlxwu6FU8"
      },
      "source": [
        ""
      ],
      "execution_count": null,
      "outputs": []
    },
    {
      "cell_type": "code",
      "metadata": {
        "id": "KY0sNI0S6FY-"
      },
      "source": [
        ""
      ],
      "execution_count": null,
      "outputs": []
    },
    {
      "cell_type": "code",
      "metadata": {
        "id": "nOUx5QGj6Fm1"
      },
      "source": [
        ""
      ],
      "execution_count": null,
      "outputs": []
    },
    {
      "cell_type": "code",
      "metadata": {
        "id": "YAewPtgb6FpJ"
      },
      "source": [
        ""
      ],
      "execution_count": null,
      "outputs": []
    },
    {
      "cell_type": "code",
      "metadata": {
        "id": "9dHi7MZK6Frx"
      },
      "source": [
        ""
      ],
      "execution_count": null,
      "outputs": []
    },
    {
      "cell_type": "code",
      "metadata": {
        "id": "0ROOEdpC6FuC"
      },
      "source": [
        ""
      ],
      "execution_count": null,
      "outputs": []
    },
    {
      "cell_type": "code",
      "metadata": {
        "id": "Y-LCfW_H6FxR"
      },
      "source": [
        ""
      ],
      "execution_count": null,
      "outputs": []
    }
  ]
}